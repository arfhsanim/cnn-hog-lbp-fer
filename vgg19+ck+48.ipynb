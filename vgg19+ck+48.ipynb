{
 "cells": [
  {
   "cell_type": "code",
   "execution_count": null,
   "metadata": {},
   "outputs": [],
   "source": [
    "import tensorflow as tf\n",
    "\n",
    "# Check GPU availability\n",
    "print(\"GPU Available:\", tf.config.list_physical_devices('GPU'))\n",
    "\n",
    "# Your machine learning code using TensorFlow"
   ]
  },
  {
   "cell_type": "code",
   "execution_count": null,
   "metadata": {},
   "outputs": [],
   "source": [
    "!nvidia-smi"
   ]
  },
  {
   "cell_type": "code",
   "execution_count": null,
   "metadata": {},
   "outputs": [],
   "source": [
    "!pip install scikit-plot"
   ]
  },
  {
   "cell_type": "code",
   "execution_count": null,
   "metadata": {},
   "outputs": [],
   "source": [
    "# Define paths\n",
    "zip_file_path = '/content/CK+48.zip'  # Path to the uploaded zip file in Colab\n",
    "extracted_dir_path = '/content/extracted/'  # Adjust the target directory in Colab\n",
    "\n",
    "# Unzip the file\n",
    "!unzip -q \"$zip_file_path\" -d \"$extracted_dir_path\"\n",
    "\n",
    "print(\"Extraction completed.\")"
   ]
  },
  {
   "cell_type": "code",
   "execution_count": null,
   "metadata": {},
   "outputs": [],
   "source": [
    "import os\n",
    "import cv2\n",
    "import numpy as np\n",
    "from keras.utils import np_utils\n",
    "from sklearn.model_selection import train_test_split\n",
    "from keras.layers import Flatten, Dense, Dropout\n",
    "from keras.models import Model\n",
    "from keras.optimizers import Adam\n",
    "from keras.callbacks import EarlyStopping, ReduceLROnPlateau\n",
    "from keras.preprocessing.image import ImageDataGenerator\n",
    "from keras.applications import VGG19\n",
    "import matplotlib.pyplot as plt"
   ]
  },
  {
   "cell_type": "code",
   "execution_count": null,
   "metadata": {},
   "outputs": [],
   "source": [
    "# Mapping of emotions to numerical labels\n",
    "emotion_to_label = {'anger': 0, 'contempt': 1, 'disgust': 2, 'fear': 3, 'happy': 4, 'sadness': 5, 'surprise': 6}\n",
    "label_to_text = {0: 'anger', 1: 'contempt', 2: 'disgust', 3: 'fear', 4: 'happy', 5: 'sadness', 6: 'surprise'}\n",
    "\n",
    "\n",
    "\n",
    "\n",
    "INPUT_PATH = \"/content/extracted/CK+48/\"\n",
    "\n",
    "# Count the total number of images\n",
    "total_images = sum(len(os.listdir(os.path.join(INPUT_PATH, dir_))) for dir_ in emotion_to_label.keys())\n",
    "\n",
    "# Initialize arrays for images and labels\n",
    "img_arr = np.empty(shape=(total_images, 224, 224, 3))\n",
    "img_label = np.empty(shape=(total_images))\n",
    "\n",
    "# Initialize counters for indexing\n",
    "idx = 0\n",
    "\n",
    "for emotion, label_value in emotion_to_label.items():\n",
    "    dir_path = os.path.join(INPUT_PATH, emotion)\n",
    "    for f in os.listdir(dir_path):\n",
    "        img_path = os.path.join(dir_path, f)\n",
    "        img = cv2.imread(img_path)\n",
    "        img_resized = cv2.resize(img, (224, 224))\n",
    "        img_arr[idx] = img_resized\n",
    "        img_label[idx] = label_value\n",
    "        idx += 1"
   ]
  }
 ],
 "metadata": {
  "language_info": {
   "name": "python"
  },
  "orig_nbformat": 4
 },
 "nbformat": 4,
 "nbformat_minor": 2
}
