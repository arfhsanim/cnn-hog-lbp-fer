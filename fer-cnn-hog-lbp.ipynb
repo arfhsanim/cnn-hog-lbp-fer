{
 "cells": [
  {
   "cell_type": "code",
   "execution_count": null,
   "metadata": {},
   "outputs": [],
   "source": [
    "from google.colab import drive\n",
    "from zipfile import ZipFile\n",
    "\n",
    "drive.mount('/content/drive')\n",
    "file_name = \"/content/archive.zip\"\n",
    "\n",
    "with ZipFile(file_name, 'r') as zip:\n",
    "  zip.extractall()\n",
    "  print(\"Done\")"
   ]
  },
  {
   "cell_type": "code",
   "execution_count": null,
   "metadata": {},
   "outputs": [],
   "source": [
    "import numpy as np\n",
    "import pandas as pd\n",
    "import matplotlib.pyplot as plt\n",
    "import seaborn as sns\n",
    "import cv2\n",
    "import os\n",
    "import random\n",
    "from tqdm import tqdm\n",
    "from sklearn.model_selection import train_test_split\n",
    "import tensorflow as tf\n",
    "from tensorflow.keras.preprocessing.image import ImageDataGenerator\n",
    "from tensorflow.keras.models import Sequential\n",
    "from tensorflow.keras.callbacks import Callback, EarlyStopping, ReduceLROnPlateau\n",
    "from tensorflow.keras.layers import Conv2D, BatchNormalization, MaxPool2D, Dropout, Flatten, Dense\n",
    "from tensorflow.keras.optimizers import Adam,RMSprop,SGD,Adamax\n",
    "from tensorflow.keras import regularizers"
   ]
  },
  {
   "cell_type": "code",
   "execution_count": null,
   "metadata": {},
   "outputs": [],
   "source": [
    "import os\n",
    "print(os.getcwd())\n",
    "os.chdir('/content/drive/MyDrive/trainFile/archive.zip')\n",
    "print(os.getcwd())\n",
    "os.listdir()"
   ]
  },
  {
   "cell_type": "code",
   "execution_count": null,
   "metadata": {},
   "outputs": [],
   "source": [
    "DATADIR = '/content/gdrive/My Drive/Colab Notebooks/CK+48'"
   ]
  },
  {
   "cell_type": "code",
   "execution_count": null,
   "metadata": {},
   "outputs": [],
   "source": [
    "CATEGORIES = os.listdir(DATADIR)\n",
    "CATEGORIES"
   ]
  },
  {
   "cell_type": "code",
   "execution_count": null,
   "metadata": {},
   "outputs": [],
   "source": [
    "def load_data():\n",
    "    DATADIR = '/content/gdrive/My Drive/Colab Notebooks/CK+48'\n",
    "    data = []\n",
    "    # loading training data\n",
    "    for category in CATEGORIES:\n",
    "        # create path to image of respective expression\n",
    "        path = os.path.join(DATADIR, category)\n",
    "        # get the classification  for each expression \n",
    "        class_num = CATEGORIES.index(category)\n",
    "\n",
    "        for img in tqdm(os.listdir(path)):\n",
    "            img_array = cv2.imread(os.path.join(path, img), 0)\n",
    "            data.append([img_array, class_num])\n",
    "            \n",
    "    return data"
   ]
  },
  {
   "cell_type": "code",
   "execution_count": null,
   "metadata": {},
   "outputs": [],
   "source": [
    "data = load_data()"
   ]
  },
  {
   "cell_type": "code",
   "execution_count": null,
   "metadata": {},
   "outputs": [],
   "source": [
    "len(data)"
   ]
  },
  {
   "cell_type": "code",
   "execution_count": null,
   "metadata": {},
   "outputs": [],
   "source": [
    "L = 4\n",
    "W = 4\n",
    "fig, axes = plt.subplots(L, W, figsize = (15,15))\n",
    "axes = axes.ravel()\n",
    "\n",
    "for i in range(0, L * W):  \n",
    "    sample = random.choice(data)\n",
    "    axes[i].set_title(\"Expression = \"+str(CATEGORIES[sample[1]]))\n",
    "    axes[i].imshow(sample[0], cmap='gray')\n",
    "    axes[i].axis('off')\n",
    "plt.subplots_adjust(wspace=0.5)"
   ]
  },
  {
   "cell_type": "code",
   "execution_count": null,
   "metadata": {},
   "outputs": [],
   "source": [
    "X = np.array([ x[0] for x in data])\n",
    "y = np.array([Y[1] for Y in data])"
   ]
  },
  {
   "cell_type": "code",
   "execution_count": null,
   "metadata": {},
   "outputs": [],
   "source": [
    "print(\"X_train shape: \", X_train.shape)\n",
    "print(\"y_train shape: \", y_train.shape)\n",
    "print(\"-------------------------------\")\n",
    "print(\"X_test shape: \", X_test.shape)\n",
    "print(\"y_test shape: \", y_test.shape)"
   ]
  },
  {
   "cell_type": "code",
   "execution_count": null,
   "metadata": {},
   "outputs": [],
   "source": [
    "# reshaping y_train and y_test\n",
    "y_train = np.reshape(y_train, (len(y_train),1))\n",
    "y_test  = np.reshape(y_test , (len(y_test ),1))\n",
    "\n",
    "print(\"After reshaping\")\n",
    "print(\"y_train shape: \", y_train.shape)\n",
    "print(\"y_test shape: \", y_test.shape)"
   ]
  },
  {
   "cell_type": "code",
   "execution_count": null,
   "metadata": {},
   "outputs": [],
   "source": [
    "X_train = np.expand_dims(X_train, axis=3)\n",
    "X_test = np.expand_dims(X_test, axis=3)\n",
    "\n",
    "print(\"After adding color channel\")\n",
    "print(\"X_train shape: \", X_train.shape)\n",
    "print(\"X_test shape: \", X_test.shape)"
   ]
  },
  {
   "cell_type": "code",
   "execution_count": null,
   "metadata": {},
   "outputs": [],
   "source": [
    "X_train = X_train / 255.0\n",
    "X_test = X_test / 255.0"
   ]
  },
  {
   "cell_type": "code",
   "execution_count": null,
   "metadata": {},
   "outputs": [],
   "source": [
    "y_train[0]"
   ]
  },
  {
   "cell_type": "code",
   "execution_count": null,
   "metadata": {},
   "outputs": [],
   "source": [
    "y_train_SVM = y_train\n",
    "y_test_SVM = y_test\n",
    "\n",
    "y_train = tf.keras.utils.to_categorical(y_train)\n",
    "y_test = tf.keras.utils.to_categorical(y_test)"
   ]
  },
  {
   "cell_type": "code",
   "execution_count": null,
   "metadata": {},
   "outputs": [],
   "source": [
    "y_train[0]"
   ]
  },
  {
   "cell_type": "code",
   "execution_count": null,
   "metadata": {},
   "outputs": [],
   "source": [
    "y_train.shape, y_test.shape"
   ]
  },
  {
   "cell_type": "code",
   "execution_count": null,
   "metadata": {},
   "outputs": [],
   "source": [
    "from skimage.transform import resize\n",
    "from skimage.feature import hog"
   ]
  },
  {
   "cell_type": "code",
   "execution_count": null,
   "metadata": {},
   "outputs": [],
   "source": [
    "plt.figure(figsize=(10, 10))\n",
    "\n",
    "\n",
    "plt.subplot(1,2,1)\n",
    "img = random.choice(X_train)\n",
    "# first image needs to be resized before passing it to HOG descriptor\n",
    "resized_img =  resize(img, (128, 64))\n",
    "plt.title(\"Original image\")\n",
    "plt.imshow(img, cmap='gray')\n",
    "fd, hog_image = hog(\n",
    "    resized_img, \n",
    "    orientations=9, \n",
    "    pixels_per_cell=(8, 8),\n",
    "    cells_per_block=(2, 2), \n",
    "    visualize=True, \n",
    "    multichannel=True\n",
    ")\n",
    "plt.subplot(1,2,2)\n",
    "plt.title(\"HOG\")\n",
    "plt.imshow(resize(hog_image, (48, 48)), cmap='gray')\n",
    "plt.axis('off')"
   ]
  },
  {
   "cell_type": "code",
   "execution_count": null,
   "metadata": {},
   "outputs": [],
   "source": [
    "def Create_Hog_features(data):\n",
    "    Feature_data = np.zeros((len(data),48,48))\n",
    "\n",
    "    for i in range(len(data)):\n",
    "        img = data[i]\n",
    "        resized_img = resize(img, (128, 64))\n",
    "        fd, hog_image = hog(\n",
    "            resized_img, \n",
    "            orientations=9, \n",
    "            pixels_per_cell=(8, 8),\n",
    "            cells_per_block=(2, 2), \n",
    "            visualize=True, \n",
    "            multichannel=True\n",
    "        )\n",
    "        Feature_data[i] = resize(hog_image, (48, 48))\n",
    "    return Feature_data"
   ]
  },
  {
   "cell_type": "code",
   "execution_count": null,
   "metadata": {},
   "outputs": [],
   "source": [
    "Feature_X_train = Create_Hog_features(X_train)\n",
    "Feature_X_train.shape"
   ]
  },
  {
   "cell_type": "code",
   "execution_count": null,
   "metadata": {},
   "outputs": [],
   "source": [
    "plt.imshow(random.choice(Feature_X_train), cmap='gray')\n",
    "plt.axis('off')"
   ]
  },
  {
   "cell_type": "code",
   "execution_count": null,
   "metadata": {},
   "outputs": [],
   "source": []
  }
 ],
 "metadata": {
  "language_info": {
   "name": "python"
  },
  "orig_nbformat": 4
 },
 "nbformat": 4,
 "nbformat_minor": 2
}
